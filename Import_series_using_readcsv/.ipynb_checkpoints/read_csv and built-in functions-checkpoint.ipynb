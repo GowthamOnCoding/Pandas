{
 "cells": [
  {
   "cell_type": "markdown",
   "metadata": {},
   "source": [
    "# Importing pandas series using readcsv()"
   ]
  },
  {
   "cell_type": "code",
   "execution_count": 9,
   "metadata": {},
   "outputs": [
    {
     "data": {
      "text/plain": [
       "0       Bulbasaur\n",
       "1         Ivysaur\n",
       "2        Venusaur\n",
       "3      Charmander\n",
       "4      Charmeleon\n",
       "5       Charizard\n",
       "6        Squirtle\n",
       "7       Wartortle\n",
       "8       Blastoise\n",
       "9        Caterpie\n",
       "10        Metapod\n",
       "11     Butterfree\n",
       "12         Weedle\n",
       "13         Kakuna\n",
       "14       Beedrill\n",
       "15         Pidgey\n",
       "16      Pidgeotto\n",
       "17        Pidgeot\n",
       "18        Rattata\n",
       "19       Raticate\n",
       "20        Spearow\n",
       "21         Fearow\n",
       "22          Ekans\n",
       "23          Arbok\n",
       "24        Pikachu\n",
       "25         Raichu\n",
       "26      Sandshrew\n",
       "27      Sandslash\n",
       "28        Nidoran\n",
       "29       Nidorina\n",
       "          ...    \n",
       "691     Clauncher\n",
       "692     Clawitzer\n",
       "693    Helioptile\n",
       "694     Heliolisk\n",
       "695        Tyrunt\n",
       "696     Tyrantrum\n",
       "697        Amaura\n",
       "698       Aurorus\n",
       "699       Sylveon\n",
       "700      Hawlucha\n",
       "701       Dedenne\n",
       "702       Carbink\n",
       "703         Goomy\n",
       "704       Sliggoo\n",
       "705        Goodra\n",
       "706        Klefki\n",
       "707      Phantump\n",
       "708     Trevenant\n",
       "709     Pumpkaboo\n",
       "710     Gourgeist\n",
       "711      Bergmite\n",
       "712       Avalugg\n",
       "713        Noibat\n",
       "714       Noivern\n",
       "715       Xerneas\n",
       "716       Yveltal\n",
       "717       Zygarde\n",
       "718       Diancie\n",
       "719         Hoopa\n",
       "720     Volcanion\n",
       "Name: Pokemon, Length: 721, dtype: object"
      ]
     },
     "execution_count": 9,
     "metadata": {},
     "output_type": "execute_result"
    }
   ],
   "source": [
    "#Import pandas\n",
    "import pandas as pd\n",
    "#usecols is used to mention the columns that should be available in dataframe/series\n",
    "#squeeze=True will convert dataframe into series\n",
    "pok=pd.read_csv(\"pokemon.csv\",usecols=[\"Pokemon\"],squeeze=True)\n",
    "pok"
   ]
  },
  {
   "cell_type": "code",
   "execution_count": 12,
   "metadata": {},
   "outputs": [
    {
     "data": {
      "text/plain": [
       "0        50.12\n",
       "1        54.10\n",
       "2        54.65\n",
       "3        52.38\n",
       "4        52.95\n",
       "5        53.90\n",
       "6        53.02\n",
       "7        50.95\n",
       "8        51.13\n",
       "9        50.07\n",
       "10       50.70\n",
       "11       49.95\n",
       "12       50.74\n",
       "13       51.10\n",
       "14       51.10\n",
       "15       52.61\n",
       "16       53.70\n",
       "17       55.69\n",
       "18       55.94\n",
       "19       56.93\n",
       "20       58.69\n",
       "21       59.62\n",
       "22       58.86\n",
       "23       59.13\n",
       "24       60.35\n",
       "25       59.86\n",
       "26       59.07\n",
       "27       63.37\n",
       "28       65.47\n",
       "29       64.74\n",
       "         ...  \n",
       "2982    675.22\n",
       "2983    668.26\n",
       "2984    680.04\n",
       "2985    684.11\n",
       "2986    692.10\n",
       "2987    699.21\n",
       "2988    694.49\n",
       "2989    697.77\n",
       "2990    695.36\n",
       "2991    705.63\n",
       "2992    715.09\n",
       "2993    720.64\n",
       "2994    716.98\n",
       "2995    720.95\n",
       "2996    719.85\n",
       "2997    733.78\n",
       "2998    736.96\n",
       "2999    741.19\n",
       "3000    738.63\n",
       "3001    742.74\n",
       "3002    739.77\n",
       "3003    738.42\n",
       "3004    741.77\n",
       "3005    745.91\n",
       "3006    768.79\n",
       "3007    772.88\n",
       "3008    771.07\n",
       "3009    773.18\n",
       "3010    771.61\n",
       "3011    782.22\n",
       "Name: Stock Price, Length: 3012, dtype: float64"
      ]
     },
     "execution_count": 12,
     "metadata": {},
     "output_type": "execute_result"
    }
   ],
   "source": [
    "gd=pd.read_csv(\"google_stock_price.csv\",squeeze=True)\n",
    "gd"
   ]
  },
  {
   "cell_type": "markdown",
   "metadata": {},
   "source": [
    "# Head and tail methods"
   ]
  },
  {
   "cell_type": "code",
   "execution_count": 14,
   "metadata": {},
   "outputs": [
    {
     "data": {
      "text/plain": [
       "0    50.12\n",
       "1    54.10\n",
       "2    54.65\n",
       "3    52.38\n",
       "4    52.95\n",
       "Name: Stock Price, dtype: float64"
      ]
     },
     "execution_count": 14,
     "metadata": {},
     "output_type": "execute_result"
    }
   ],
   "source": [
    "#head() will give top 5 rows by default but we can mention the number of rows to be returned\n",
    "gd.head()"
   ]
  },
  {
   "cell_type": "code",
   "execution_count": 18,
   "metadata": {},
   "outputs": [
    {
     "data": {
      "text/plain": [
       "0     50.12\n",
       "1     54.10\n",
       "2     54.65\n",
       "3     52.38\n",
       "4     52.95\n",
       "5     53.90\n",
       "6     53.02\n",
       "7     50.95\n",
       "8     51.13\n",
       "9     50.07\n",
       "10    50.70\n",
       "11    49.95\n",
       "Name: Stock Price, dtype: float64"
      ]
     },
     "execution_count": 18,
     "metadata": {},
     "output_type": "execute_result"
    }
   ],
   "source": [
    "#Also head() function will create a new series behind the scene, hence we can store the result of head() in a variable\n",
    "#head(12) will return top 12 rows\n",
    "ns=gd.head(12)\n",
    "ns"
   ]
  },
  {
   "cell_type": "code",
   "execution_count": 20,
   "metadata": {},
   "outputs": [
    {
     "data": {
      "text/plain": [
       "716      Yveltal\n",
       "717      Zygarde\n",
       "718      Diancie\n",
       "719        Hoopa\n",
       "720    Volcanion\n",
       "Name: Pokemon, dtype: object"
      ]
     },
     "execution_count": 20,
     "metadata": {},
     "output_type": "execute_result"
    }
   ],
   "source": [
    "#Tail method example\n",
    "#Returns last 5 rows by default\n",
    "pok.tail()"
   ]
  },
  {
   "cell_type": "code",
   "execution_count": 22,
   "metadata": {},
   "outputs": [
    {
     "data": {
      "text/plain": [
       "706       Klefki\n",
       "707     Phantump\n",
       "708    Trevenant\n",
       "709    Pumpkaboo\n",
       "710    Gourgeist\n",
       "711     Bergmite\n",
       "712      Avalugg\n",
       "713       Noibat\n",
       "714      Noivern\n",
       "715      Xerneas\n",
       "716      Yveltal\n",
       "717      Zygarde\n",
       "718      Diancie\n",
       "719        Hoopa\n",
       "720    Volcanion\n",
       "Name: Pokemon, dtype: object"
      ]
     },
     "execution_count": 22,
     "metadata": {},
     "output_type": "execute_result"
    }
   ],
   "source": [
    "#Like head(), result of tail() also can be stored in a new variable for reuse\n",
    "ps=pok.tail(15)\n",
    "ps"
   ]
  },
  {
   "cell_type": "markdown",
   "metadata": {},
   "source": [
    "# Python built-in functions"
   ]
  },
  {
   "cell_type": "markdown",
   "metadata": {},
   "source": [
    "len()-when you use with series,it will give you the total number of rows"
   ]
  },
  {
   "cell_type": "code",
   "execution_count": 26,
   "metadata": {},
   "outputs": [
    {
     "data": {
      "text/plain": [
       "721"
      ]
     },
     "execution_count": 26,
     "metadata": {},
     "output_type": "execute_result"
    }
   ],
   "source": [
    "len(pok)"
   ]
  },
  {
   "cell_type": "code",
   "execution_count": 27,
   "metadata": {},
   "outputs": [
    {
     "data": {
      "text/plain": [
       "3012"
      ]
     },
     "execution_count": 27,
     "metadata": {},
     "output_type": "execute_result"
    }
   ],
   "source": [
    "len(gd)"
   ]
  },
  {
   "cell_type": "markdown",
   "metadata": {},
   "source": [
    "type()- to find out the type of the object"
   ]
  },
  {
   "cell_type": "code",
   "execution_count": 28,
   "metadata": {},
   "outputs": [
    {
     "data": {
      "text/plain": [
       "pandas.core.series.Series"
      ]
     },
     "execution_count": 28,
     "metadata": {},
     "output_type": "execute_result"
    }
   ],
   "source": [
    "type(gd)"
   ]
  },
  {
   "cell_type": "markdown",
   "metadata": {},
   "source": [
    "sorted- returns a new list containg the iterable in ascending order"
   ]
  },
  {
   "cell_type": "code",
   "execution_count": 29,
   "metadata": {},
   "outputs": [
    {
     "data": {
      "text/plain": [
       "['Beedrill',\n",
       " 'Blastoise',\n",
       " 'Bulbasaur',\n",
       " 'Butterfree',\n",
       " 'Caterpie',\n",
       " 'Charizard',\n",
       " 'Charmander',\n",
       " 'Charmeleon',\n",
       " 'Ivysaur',\n",
       " 'Kakuna',\n",
       " 'Metapod',\n",
       " 'Squirtle',\n",
       " 'Venusaur',\n",
       " 'Wartortle',\n",
       " 'Weedle']"
      ]
     },
     "execution_count": 29,
     "metadata": {},
     "output_type": "execute_result"
    }
   ],
   "source": [
    "sorted(pok.head(15))"
   ]
  },
  {
   "cell_type": "markdown",
   "metadata": {},
   "source": [
    "list()-Creates a new list from the iterable provided, if no arguement provided, then creates a empty list"
   ]
  },
  {
   "cell_type": "code",
   "execution_count": 33,
   "metadata": {},
   "outputs": [
    {
     "data": {
      "text/plain": [
       "['Dedenne',\n",
       " 'Carbink',\n",
       " 'Goomy',\n",
       " 'Sliggoo',\n",
       " 'Goodra',\n",
       " 'Klefki',\n",
       " 'Phantump',\n",
       " 'Trevenant',\n",
       " 'Pumpkaboo',\n",
       " 'Gourgeist',\n",
       " 'Bergmite',\n",
       " 'Avalugg',\n",
       " 'Noibat',\n",
       " 'Noivern',\n",
       " 'Xerneas',\n",
       " 'Yveltal',\n",
       " 'Zygarde',\n",
       " 'Diancie',\n",
       " 'Hoopa',\n",
       " 'Volcanion']"
      ]
     },
     "execution_count": 33,
     "metadata": {},
     "output_type": "execute_result"
    }
   ],
   "source": [
    "nl=list(pok.tail(20))\n",
    "nl"
   ]
  },
  {
   "cell_type": "code",
   "execution_count": 34,
   "metadata": {},
   "outputs": [
    {
     "data": {
      "text/plain": [
       "list"
      ]
     },
     "execution_count": 34,
     "metadata": {},
     "output_type": "execute_result"
    }
   ],
   "source": [
    "type(nl)"
   ]
  },
  {
   "cell_type": "markdown",
   "metadata": {},
   "source": [
    "dict()- used to create dictionary out of iterable"
   ]
  },
  {
   "cell_type": "code",
   "execution_count": 35,
   "metadata": {},
   "outputs": [
    {
     "data": {
      "text/plain": [
       "{2992: 715.09,\n",
       " 2993: 720.64,\n",
       " 2994: 716.98,\n",
       " 2995: 720.95,\n",
       " 2996: 719.85,\n",
       " 2997: 733.78,\n",
       " 2998: 736.96,\n",
       " 2999: 741.19,\n",
       " 3000: 738.63,\n",
       " 3001: 742.74,\n",
       " 3002: 739.77,\n",
       " 3003: 738.42,\n",
       " 3004: 741.77,\n",
       " 3005: 745.91,\n",
       " 3006: 768.79,\n",
       " 3007: 772.88,\n",
       " 3008: 771.07,\n",
       " 3009: 773.18,\n",
       " 3010: 771.61,\n",
       " 3011: 782.22}"
      ]
     },
     "execution_count": 35,
     "metadata": {},
     "output_type": "execute_result"
    }
   ],
   "source": [
    "dict(gd.tail(20))"
   ]
  },
  {
   "cell_type": "markdown",
   "metadata": {},
   "source": [
    "max()-With a single iterable argument, return its biggest item. The\n",
    "default keyword-only argument specifies an object to return if\n",
    "the provided iterable is empty.\n",
    "With two or more arguments, return the largest argument"
   ]
  },
  {
   "cell_type": "code",
   "execution_count": 36,
   "metadata": {},
   "outputs": [
    {
     "data": {
      "text/plain": [
       "'Zygarde'"
      ]
     },
     "execution_count": 36,
     "metadata": {},
     "output_type": "execute_result"
    }
   ],
   "source": [
    "max(pok)"
   ]
  },
  {
   "cell_type": "code",
   "execution_count": 37,
   "metadata": {},
   "outputs": [
    {
     "data": {
      "text/plain": [
       "782.22"
      ]
     },
     "execution_count": 37,
     "metadata": {},
     "output_type": "execute_result"
    }
   ],
   "source": [
    "max(gd)"
   ]
  },
  {
   "cell_type": "code",
   "execution_count": null,
   "metadata": {},
   "outputs": [],
   "source": []
  }
 ],
 "metadata": {
  "kernelspec": {
   "display_name": "Python 3",
   "language": "python",
   "name": "python3"
  },
  "language_info": {
   "codemirror_mode": {
    "name": "ipython",
    "version": 3
   },
   "file_extension": ".py",
   "mimetype": "text/x-python",
   "name": "python",
   "nbconvert_exporter": "python",
   "pygments_lexer": "ipython3",
   "version": "3.7.3"
  }
 },
 "nbformat": 4,
 "nbformat_minor": 2
}
