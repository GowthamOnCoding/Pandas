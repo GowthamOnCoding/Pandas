{
 "cells": [
  {
   "cell_type": "markdown",
   "metadata": {},
   "source": [
    "# The Apply() method"
   ]
  },
  {
   "cell_type": "code",
   "execution_count": 2,
   "metadata": {},
   "outputs": [],
   "source": [
    "import pandas as pd\n",
    "google=pd.read_csv(\"google_stock_price.csv\",squeeze=True)\n"
   ]
  },
  {
   "cell_type": "markdown",
   "metadata": {},
   "source": [
    "Using apply() we can apply a function on each member of pandas series, for example in this google stock price dataset\n",
    "if the stock price is less than 300, we will classify it as ok, if it is between 300 to 650 it is good\n",
    "if it is more than 650 then we will classify it as extraordinary "
   ]
  },
  {
   "cell_type": "code",
   "execution_count": 4,
   "metadata": {},
   "outputs": [],
   "source": [
    "#function to classify the stock value\n",
    "def classify(number):\n",
    "    output=\"\"\n",
    "    if number<300:\n",
    "        output=\"OK\"\n",
    "        return output\n",
    "    if number >300 and number<=650:\n",
    "        output=\"Good\"\n",
    "        return output\n",
    "    else:\n",
    "        output=\"Extraordinary\"\n",
    "        return output\n",
    "    "
   ]
  },
  {
   "cell_type": "code",
   "execution_count": 6,
   "metadata": {},
   "outputs": [
    {
     "data": {
      "text/plain": [
       "0    OK\n",
       "1    OK\n",
       "2    OK\n",
       "3    OK\n",
       "4    OK\n",
       "Name: Stock Price, dtype: object"
      ]
     },
     "execution_count": 6,
     "metadata": {},
     "output_type": "execute_result"
    }
   ],
   "source": [
    "#Lets apply the above function to pandas series using apply()\n",
    "google.apply(classify).head()"
   ]
  },
  {
   "cell_type": "code",
   "execution_count": 7,
   "metadata": {},
   "outputs": [
    {
     "data": {
      "text/plain": [
       "3007    Extraordinary\n",
       "3008    Extraordinary\n",
       "3009    Extraordinary\n",
       "3010    Extraordinary\n",
       "3011    Extraordinary\n",
       "Name: Stock Price, dtype: object"
      ]
     },
     "execution_count": 7,
     "metadata": {},
     "output_type": "execute_result"
    }
   ],
   "source": [
    "google.tail().apply(classify)"
   ]
  },
  {
   "cell_type": "code",
   "execution_count": 9,
   "metadata": {},
   "outputs": [
    {
     "data": {
      "text/plain": [
       "0    51.12\n",
       "1    55.10\n",
       "2    55.65\n",
       "3    53.38\n",
       "4    53.95\n",
       "Name: Stock Price, dtype: float64"
      ]
     },
     "execution_count": 9,
     "metadata": {},
     "output_type": "execute_result"
    }
   ],
   "source": [
    "#We can even use lambda functions to do simple operations\n",
    "#For example lets add 1 dollar to each value in the stock price series\n",
    "google.apply(lambda stock_price:stock_price+1).head()"
   ]
  },
  {
   "cell_type": "code",
   "execution_count": null,
   "metadata": {},
   "outputs": [],
   "source": []
  }
 ],
 "metadata": {
  "kernelspec": {
   "display_name": "Python 3",
   "language": "python",
   "name": "python3"
  },
  "language_info": {
   "codemirror_mode": {
    "name": "ipython",
    "version": 3
   },
   "file_extension": ".py",
   "mimetype": "text/x-python",
   "name": "python",
   "nbconvert_exporter": "python",
   "pygments_lexer": "ipython3",
   "version": "3.7.3"
  }
 },
 "nbformat": 4,
 "nbformat_minor": 2
}
